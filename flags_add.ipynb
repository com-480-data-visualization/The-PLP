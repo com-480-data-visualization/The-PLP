{
 "cells": [
  {
   "cell_type": "code",
   "execution_count": 14,
   "metadata": {},
   "outputs": [],
   "source": [
    "import pandas as pd\n",
    "\n",
    "# Load the CSV files into dataframes\n",
    "countries_df = pd.read_csv('assets/data/countries_flag.csv')\n",
    "guns_death_df = pd.read_csv('assets/data/guns_death_ownership.csv')\n",
    "\n",
    "\n",
    "# Merge the dataframes based on country names\n",
    "merged_df = pd.merge(countries_df, guns_death_df, left_on='country', right_on='country')\n",
    "#merged_df = merged_df.drop('Country', axis=1)\n",
    "\n",
    "\n",
    "merged_df = merged_df.drop(['images_file'], axis=1)\n",
    "\n",
    "merged_df.to_csv('assets/data/full.csv', index=False)"
   ]
  }
 ],
 "metadata": {
  "kernelspec": {
   "display_name": "dataviz",
   "language": "python",
   "name": "python3"
  },
  "language_info": {
   "codemirror_mode": {
    "name": "ipython",
    "version": 3
   },
   "file_extension": ".py",
   "mimetype": "text/x-python",
   "name": "python",
   "nbconvert_exporter": "python",
   "pygments_lexer": "ipython3",
   "version": "3.11.4"
  }
 },
 "nbformat": 4,
 "nbformat_minor": 2
}
